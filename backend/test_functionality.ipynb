{
 "cells": [
  {
   "cell_type": "code",
   "execution_count": 1,
   "metadata": {},
   "outputs": [],
   "source": [
    "import nest_asyncio\n",
    "nest_asyncio.apply()\n",
    "\n",
    "from IPython.display import Markdown, display"
   ]
  },
  {
   "cell_type": "code",
   "execution_count": 2,
   "metadata": {},
   "outputs": [],
   "source": [
    "import sys\n",
    "import os\n",
    "\n",
    "# Add the project root directory to the Python path\n",
    "sys.path.append(os.path.abspath('..'))"
   ]
  },
  {
   "cell_type": "code",
   "execution_count": 3,
   "metadata": {},
   "outputs": [],
   "source": [
    "from dotenv import dotenv_values\n",
    "\n",
    "from llama_index.core import (load_index_from_storage,\n",
    "                              StorageContext,\n",
    "                              Settings,\n",
    "                              VectorStoreIndex\n",
    "                              )\n",
    "\n",
    "from llama_index.core.node_parser import SentenceSplitter\n",
    "\n",
    "from llama_index.core.schema import MetadataMode\n",
    "\n",
    "from llama_index.vector_stores.qdrant import QdrantVectorStore\n",
    "from qdrant_client import QdrantClient\n"
   ]
  },
  {
   "cell_type": "code",
   "execution_count": 4,
   "metadata": {},
   "outputs": [],
   "source": [
    "from backend import (add_metadata_to_documents,\n",
    "                     extract,\n",
    "                     transform,\n",
    "                     text_embed_model,\n",
    "                     query_embed_model,\n",
    "                     llm,\n",
    "                     rerank_model,\n",
    "                     moderate_message,\n",
    "                     llm_prompt,\n",
    "                     unsafe_categories\n",
    "                     )"
   ]
  },
  {
   "cell_type": "code",
   "execution_count": 5,
   "metadata": {},
   "outputs": [],
   "source": [
    "Settings.embed_model = text_embed_model\n",
    "Settings.llm = llm\n",
    "Settings.text_splitter = SentenceSplitter(chunk_size=1024, chunk_overlap=50)"
   ]
  },
  {
   "cell_type": "code",
   "execution_count": 6,
   "metadata": {},
   "outputs": [],
   "source": [
    "config = dotenv_values(\".env\")"
   ]
  },
  {
   "cell_type": "code",
   "execution_count": 7,
   "metadata": {},
   "outputs": [],
   "source": [
    "qdrant_client = QdrantClient(url=config[\"QDRANT_ENDPOINT\"], \n",
    "                             api_key=config[\"QDRANT_API_KEY\"])"
   ]
  },
  {
   "cell_type": "code",
   "execution_count": 8,
   "metadata": {},
   "outputs": [
    {
     "name": "stderr",
     "output_type": "stream",
     "text": [
      "INFO:backend.etl:Starting extraction process for documents: ['sample_data/pil.3474.pdf']\n",
      "INFO:httpx:HTTP Request: POST https://api.cloud.llamaindex.ai/api/parsing/upload \"HTTP/1.1 200 OK\"\n"
     ]
    },
    {
     "name": "stdout",
     "output_type": "stream",
     "text": [
      "Started parsing the file under job_id 04f2529c-c358-4269-b1a9-ae9bd74474b8\n"
     ]
    },
    {
     "name": "stderr",
     "output_type": "stream",
     "text": [
      "INFO:httpx:HTTP Request: GET https://api.cloud.llamaindex.ai/api/parsing/job/04f2529c-c358-4269-b1a9-ae9bd74474b8 \"HTTP/1.1 200 OK\"\n",
      "INFO:httpx:HTTP Request: GET https://api.cloud.llamaindex.ai/api/parsing/job/04f2529c-c358-4269-b1a9-ae9bd74474b8/result/text \"HTTP/1.1 200 OK\"\n",
      "INFO:backend.etl:Extraction process completed for documents: ['sample_data/pil.3474.pdf']\n",
      "INFO:backend.etl:Adding metadata to documents\n",
      "INFO:backend.etl:Metadata added to documents\n",
      "INFO:backend.etl:Transforming documents\n",
      "INFO:backend.etl:Documents transformed\n"
     ]
    }
   ],
   "source": [
    "documents = transform(add_metadata_to_documents(extract([\"sample_data/pil.3474.pdf\"])))"
   ]
  },
  {
   "cell_type": "code",
   "execution_count": 9,
   "metadata": {},
   "outputs": [
    {
     "name": "stdout",
     "output_type": "stream",
     "text": [
      "3\n"
     ]
    }
   ],
   "source": [
    "print(len(documents))"
   ]
  },
  {
   "cell_type": "code",
   "execution_count": 10,
   "metadata": {},
   "outputs": [
    {
     "data": {
      "text/plain": [
       "{'file_path': 'sample_data/pil.3474.pdf',\n",
       " 'file_name': 'pil.3474.pdf',\n",
       " 'file_type': 'application/pdf',\n",
       " 'file_size': 119998,\n",
       " 'creation_date': '2024-11-09',\n",
       " 'last_modified_date': '2024-11-09',\n",
       " 'total_pages_in_original_pdf': 3,\n",
       " 'size_of_original_pdf(MB)': '0.11 MB'}"
      ]
     },
     "execution_count": 10,
     "metadata": {},
     "output_type": "execute_result"
    }
   ],
   "source": [
    "documents[2].metadata"
   ]
  },
  {
   "cell_type": "code",
   "execution_count": 11,
   "metadata": {},
   "outputs": [
    {
     "data": {
      "text/plain": [
       "Document(id_='4c9d5c1a-47fe-4875-b230-ee86326bd274', embedding=None, metadata={'file_path': 'sample_data/pil.3474.pdf', 'file_name': 'pil.3474.pdf', 'file_type': 'application/pdf', 'file_size': 119998, 'creation_date': '2024-11-09', 'last_modified_date': '2024-11-09', 'total_pages_in_original_pdf': 3, 'size_of_original_pdf(MB)': '0.11 MB'}, excluded_embed_metadata_keys=['file_path', 'file_type', 'file_size', 'creation_date', 'last_modified_date', 'total_pages_in_original_pdf', 'size_of_original_pdf(MB)'], excluded_llm_metadata_keys=['file_name', 'file_path', 'file_type', 'file_size', 'creation_date', 'last_modified_date', 'total_pages_in_original_pdf', 'size_of_original_pdf(MB)'], relationships={}, text='Adults, elderly patients and children 12 years and over: The recommended dose is\\n10 mg once daily as one tablet daily. If the tablets make you feel drowsy or dizzy,\\ntaking half a tablet twice a day may be better than taking one tablet once a day.\\nOther form(s) of this medicine may be more suitable for children; ask your doctor or\\npharmacist.\\nChildren aged 6 to 12 years: Half a tablet twice daily.\\nChildren under 6 years: Not recommended.\\nPatients with renal impairment: Patients with moderate renal impairment are\\nrecommended to take 5 mg once daily. If you have severe kidney problems (or liver\\nand kidney problems            together) please contact your doctor or pharmacist who may\\nadjust the dose accordingly.\\nIf your child suffers from kidney disease, please contact your doctor or pharmacist\\nwho may adjust the dose according to your child’s needs.\\nIf you feel that the effect of Cetirizine Hydrochloride Tablets is too weak or too\\nstrong, please consult your doctor.\\n\\nDuration of treatment\\nThe duration of the treatment depends on the type, duration and course of your\\ncomplaints. Please ask your doctor or pharmacist for advice.\\n\\nIf you take more than you should\\nIf you think you have taken an overdose of Cetirizine Hydrochloride Tablets please\\ninform your doctor. Your doctor will then decide what measures, if any, should be\\ntaken.\\n\\nAfter an overdose, the side effects described below may occur with increased\\nintensity.   Adverse      effects    such     as  confusion,      diarrhoea,     dizziness,     tiredness,\\nheadache, malaise (feeling unwell), dilating of pupil, itching, restlessness, sedation,\\nsomnolence (sleepiness), stupor, abnormal rapid heart rate, tremors and urinary\\nretention (difficulty in completely emptying the bladder) have been reported.\\n\\nIf you forget to take Cetirizine Hydrochloride Tablets\\nDo not take a double dose to make up for a forgotten dose. If you forget to take a\\ntablet, you should take one as soon as you remember, but wait at least 24 hours\\nbefore taking your next tablet.\\nIf you stop taking Cetirizine Hydrochloride Tablets\\nRarely, pruritus (intense itching) and/or urticaria may return if you stop taking\\nCetirizine Hydrochloride Tablets.\\nIf you have any further questions on the use of this medicine, ask your doctor or\\npharmacist.\\n\\n4. Possible side effects\\nLike all medicines, this medicine can cause side effects, although not everybody gets\\nthem.\\nThe following side effects are rare or very rare but you must stop taking the\\ntablets and speak to your doctor immediately if you notice them:\\n  •     Allergic reactions including severe reactions and angioedema (serious allergic\\n        reaction which causes swelling of the face or throat)\\n\\n   These reactions may start soon after you first take the medicine, or they might start\\n  later.\\nCommon side effects (may affect up to 1 in 10 patients)\\n  •     Somnolence (sleepiness)                                  •    Fatigue\\n  •     Dizziness, headache                                      •    Pharyngitis, cold-like symptoms\\n  •     Diarrhoea, nausea, dry mouth                                  of the nose (children only).\\nUncommon side effects (may affect up to 1 in 100 patients)\\n  •     Feeling agitated                                         •    Asthenia (extreme fatigue),\\n  •     Paresthesia (abnormal feelings                                malaise (feeling generally\\n        of the skin)                                                  unwell).\\n  •     Abdominal pain\\n  •     Pruritus (itchy skin), rash\\nRare side effects (may affect up to 1 in 1000 patients)\\n  •     Depression, hallucination (hearing or seeing things), aggression, confusion,\\n        sleeplessness\\n  •     Convulsions\\n  •     Tachycardia (heart beating too fast)\\n  •     Liver function abnormal\\n  •     Urticaria (hives)\\n  •     Oedema (generalised swelling due to water retention)\\n  •     Weight increased.\\nVery rare side effects        (may affect up to 1 in 10,000 patients)\\n  •     Low levels of blood platelets causing unusual bleeding or bruising\\n  •     Tics (habit spasm)\\n  •     Syncope (fainting), dyskinesia (involuntary movements), dystonia (abnormal\\n        prolonged muscular contractions), tremor, dysgeusia (altered taste)\\n  •     Blurred vision, accommodation disorder (difficulty focusing), oculogyric crisis\\n        (eyes having uncontrolled circular movements)\\n  •     Angioedema (serious allergic reaction which causes swelling of the face or\\n        throat), fixed drug eruption (drug allergy)\\n  •     Abnormal elimination of urine (bedwetting, pain and/or difficulty passing\\n        water).\\nNot known frequency of side effects                 (frequency cannot be estimated from the\\navailable data)\\n  •     Increased appetite\\n  •     Memory loss and forgetfulness\\n  •     Vertigo (sensation of rotation or movement)\\n  •     Urinary retention (inability to completely empty the urinary bladder)\\n  •    Pruritus (intense itching) and/or urticaria upon discontinuation\\n  •    Hepatitis (inflammation of the liver)\\n  •    Arthralgia (joint pain), myalgia (muscle pain)\\n  •    Acute generalised exanthematous pustulosis (rash with blisters containing pus)\\n  •    Suicidal ideation (recurring thoughts of or preoccupation with suicide),\\n       nightmares.\\nReporting of side effects\\nIf you get any side effects, talk to your doctor, pharmacist or nurse. This includes any', mimetype='text/plain', start_char_idx=None, end_char_idx=None, text_template='Metadata: {metadata_str}\\n-----\\nContent: {content}', metadata_template='{key}=>{value}', metadata_seperator='::')"
      ]
     },
     "execution_count": 11,
     "metadata": {},
     "output_type": "execute_result"
    }
   ],
   "source": [
    "documents[1]"
   ]
  },
  {
   "cell_type": "code",
   "execution_count": 12,
   "metadata": {},
   "outputs": [
    {
     "name": "stdout",
     "output_type": "stream",
     "text": [
      "The LLM sees this: \n",
      " Adults, elderly patients and children 12 years and over: The recommended dose is\n",
      "10 mg once daily as one tablet daily. If the tablets make you feel drowsy or dizzy,\n",
      "taking half a tablet twice a day may be better than taking one tablet once a day.\n",
      "Other form(s) of this medicine may be more suitable for children; ask your doctor or\n",
      "pharmacist.\n",
      "Children aged 6 to 12 years: Half a tablet twice daily.\n",
      "Children under 6 years: Not recommended.\n",
      "Patients with renal impairment: Patients with moderate renal impairment are\n",
      "recommended to take 5 mg once daily. If you have severe kidney problems (or liver\n",
      "and kidney problems            together) please contact your doctor or pharmacist who may\n",
      "adjust the dose accordingly.\n",
      "If your child suffers from kidney disease, please contact your doctor or pharmacist\n",
      "who may adjust the dose according to your child’s needs.\n",
      "If you feel that the effect of Cetirizine Hydrochloride Tablets is too weak or too\n",
      "strong, please consult your doctor.\n",
      "\n",
      "Duration of treatment\n",
      "The duration of the treatment depends on the type, duration and course of your\n",
      "complaints. Please ask your doctor or pharmacist for advice.\n",
      "\n",
      "If you take more than you should\n",
      "If you think you have taken an overdose of Cetirizine Hydrochloride Tablets please\n",
      "inform your doctor. Your doctor will then decide what measures, if any, should be\n",
      "taken.\n",
      "\n",
      "After an overdose, the side effects described below may occur with increased\n",
      "intensity.   Adverse      effects    such     as  confusion,      diarrhoea,     dizziness,     tiredness,\n",
      "headache, malaise (feeling unwell), dilating of pupil, itching, restlessness, sedation,\n",
      "somnolence (sleepiness), stupor, abnormal rapid heart rate, tremors and urinary\n",
      "retention (difficulty in completely emptying the bladder) have been reported.\n",
      "\n",
      "If you forget to take Cetirizine Hydrochloride Tablets\n",
      "Do not take a double dose to make up for a forgotten dose. If you forget to take a\n",
      "tablet, you should take one as soon as you remember, but wait at least 24 hours\n",
      "before taking your next tablet.\n",
      "If you stop taking Cetirizine Hydrochloride Tablets\n",
      "Rarely, pruritus (intense itching) and/or urticaria may return if you stop taking\n",
      "Cetirizine Hydrochloride Tablets.\n",
      "If you have any further questions on the use of this medicine, ask your doctor or\n",
      "pharmacist.\n",
      "\n",
      "4. Possible side effects\n",
      "Like all medicines, this medicine can cause side effects, although not everybody gets\n",
      "them.\n",
      "The following side effects are rare or very rare but you must stop taking the\n",
      "tablets and speak to your doctor immediately if you notice them:\n",
      "  •     Allergic reactions including severe reactions and angioedema (serious allergic\n",
      "        reaction which causes swelling of the face or throat)\n",
      "\n",
      "   These reactions may start soon after you first take the medicine, or they might start\n",
      "  later.\n",
      "Common side effects (may affect up to 1 in 10 patients)\n",
      "  •     Somnolence (sleepiness)                                  •    Fatigue\n",
      "  •     Dizziness, headache                                      •    Pharyngitis, cold-like symptoms\n",
      "  •     Diarrhoea, nausea, dry mouth                                  of the nose (children only).\n",
      "Uncommon side effects (may affect up to 1 in 100 patients)\n",
      "  •     Feeling agitated                                         •    Asthenia (extreme fatigue),\n",
      "  •     Paresthesia (abnormal feelings                                malaise (feeling generally\n",
      "        of the skin)                                                  unwell).\n",
      "  •     Abdominal pain\n",
      "  •     Pruritus (itchy skin), rash\n",
      "Rare side effects (may affect up to 1 in 1000 patients)\n",
      "  •     Depression, hallucination (hearing or seeing things), aggression, confusion,\n",
      "        sleeplessness\n",
      "  •     Convulsions\n",
      "  •     Tachycardia (heart beating too fast)\n",
      "  •     Liver function abnormal\n",
      "  •     Urticaria (hives)\n",
      "  •     Oedema (generalised swelling due to water retention)\n",
      "  •     Weight increased.\n",
      "Very rare side effects        (may affect up to 1 in 10,000 patients)\n",
      "  •     Low levels of blood platelets causing unusual bleeding or bruising\n",
      "  •     Tics (habit spasm)\n",
      "  •     Syncope (fainting), dyskinesia (involuntary movements), dystonia (abnormal\n",
      "        prolonged muscular contractions), tremor, dysgeusia (altered taste)\n",
      "  •     Blurred vision, accommodation disorder (difficulty focusing), oculogyric crisis\n",
      "        (eyes having uncontrolled circular movements)\n",
      "  •     Angioedema (serious allergic reaction which causes swelling of the face or\n",
      "        throat), fixed drug eruption (drug allergy)\n",
      "  •     Abnormal elimination of urine (bedwetting, pain and/or difficulty passing\n",
      "        water).\n",
      "Not known frequency of side effects                 (frequency cannot be estimated from the\n",
      "available data)\n",
      "  •     Increased appetite\n",
      "  •     Memory loss and forgetfulness\n",
      "  •     Vertigo (sensation of rotation or movement)\n",
      "  •     Urinary retention (inability to completely empty the urinary bladder)\n",
      "  •    Pruritus (intense itching) and/or urticaria upon discontinuation\n",
      "  •    Hepatitis (inflammation of the liver)\n",
      "  •    Arthralgia (joint pain), myalgia (muscle pain)\n",
      "  •    Acute generalised exanthematous pustulosis (rash with blisters containing pus)\n",
      "  •    Suicidal ideation (recurring thoughts of or preoccupation with suicide),\n",
      "       nightmares.\n",
      "Reporting of side effects\n",
      "If you get any side effects, talk to your doctor, pharmacist or nurse. This includes any\n"
     ]
    }
   ],
   "source": [
    "print(\n",
    "    \"The LLM sees this: \\n\",\n",
    "    documents[1].get_content(metadata_mode=MetadataMode.LLM),\n",
    ")"
   ]
  },
  {
   "cell_type": "code",
   "execution_count": 13,
   "metadata": {},
   "outputs": [
    {
     "name": "stdout",
     "output_type": "stream",
     "text": [
      "The Embedding model sees this: \n",
      " Metadata: file_name=>pil.3474.pdf\n",
      "-----\n",
      "Content: Adults, elderly patients and children 12 years and over: The recommended dose is\n",
      "10 mg once daily as one tablet daily. If the tablets make you feel drowsy or dizzy,\n",
      "taking half a tablet twice a day may be better than taking one tablet once a day.\n",
      "Other form(s) of this medicine may be more suitable for children; ask your doctor or\n",
      "pharmacist.\n",
      "Children aged 6 to 12 years: Half a tablet twice daily.\n",
      "Children under 6 years: Not recommended.\n",
      "Patients with renal impairment: Patients with moderate renal impairment are\n",
      "recommended to take 5 mg once daily. If you have severe kidney problems (or liver\n",
      "and kidney problems            together) please contact your doctor or pharmacist who may\n",
      "adjust the dose accordingly.\n",
      "If your child suffers from kidney disease, please contact your doctor or pharmacist\n",
      "who may adjust the dose according to your child’s needs.\n",
      "If you feel that the effect of Cetirizine Hydrochloride Tablets is too weak or too\n",
      "strong, please consult your doctor.\n",
      "\n",
      "Duration of treatment\n",
      "The duration of the treatment depends on the type, duration and course of your\n",
      "complaints. Please ask your doctor or pharmacist for advice.\n",
      "\n",
      "If you take more than you should\n",
      "If you think you have taken an overdose of Cetirizine Hydrochloride Tablets please\n",
      "inform your doctor. Your doctor will then decide what measures, if any, should be\n",
      "taken.\n",
      "\n",
      "After an overdose, the side effects described below may occur with increased\n",
      "intensity.   Adverse      effects    such     as  confusion,      diarrhoea,     dizziness,     tiredness,\n",
      "headache, malaise (feeling unwell), dilating of pupil, itching, restlessness, sedation,\n",
      "somnolence (sleepiness), stupor, abnormal rapid heart rate, tremors and urinary\n",
      "retention (difficulty in completely emptying the bladder) have been reported.\n",
      "\n",
      "If you forget to take Cetirizine Hydrochloride Tablets\n",
      "Do not take a double dose to make up for a forgotten dose. If you forget to take a\n",
      "tablet, you should take one as soon as you remember, but wait at least 24 hours\n",
      "before taking your next tablet.\n",
      "If you stop taking Cetirizine Hydrochloride Tablets\n",
      "Rarely, pruritus (intense itching) and/or urticaria may return if you stop taking\n",
      "Cetirizine Hydrochloride Tablets.\n",
      "If you have any further questions on the use of this medicine, ask your doctor or\n",
      "pharmacist.\n",
      "\n",
      "4. Possible side effects\n",
      "Like all medicines, this medicine can cause side effects, although not everybody gets\n",
      "them.\n",
      "The following side effects are rare or very rare but you must stop taking the\n",
      "tablets and speak to your doctor immediately if you notice them:\n",
      "  •     Allergic reactions including severe reactions and angioedema (serious allergic\n",
      "        reaction which causes swelling of the face or throat)\n",
      "\n",
      "   These reactions may start soon after you first take the medicine, or they might start\n",
      "  later.\n",
      "Common side effects (may affect up to 1 in 10 patients)\n",
      "  •     Somnolence (sleepiness)                                  •    Fatigue\n",
      "  •     Dizziness, headache                                      •    Pharyngitis, cold-like symptoms\n",
      "  •     Diarrhoea, nausea, dry mouth                                  of the nose (children only).\n",
      "Uncommon side effects (may affect up to 1 in 100 patients)\n",
      "  •     Feeling agitated                                         •    Asthenia (extreme fatigue),\n",
      "  •     Paresthesia (abnormal feelings                                malaise (feeling generally\n",
      "        of the skin)                                                  unwell).\n",
      "  •     Abdominal pain\n",
      "  •     Pruritus (itchy skin), rash\n",
      "Rare side effects (may affect up to 1 in 1000 patients)\n",
      "  •     Depression, hallucination (hearing or seeing things), aggression, confusion,\n",
      "        sleeplessness\n",
      "  •     Convulsions\n",
      "  •     Tachycardia (heart beating too fast)\n",
      "  •     Liver function abnormal\n",
      "  •     Urticaria (hives)\n",
      "  •     Oedema (generalised swelling due to water retention)\n",
      "  •     Weight increased.\n",
      "Very rare side effects        (may affect up to 1 in 10,000 patients)\n",
      "  •     Low levels of blood platelets causing unusual bleeding or bruising\n",
      "  •     Tics (habit spasm)\n",
      "  •     Syncope (fainting), dyskinesia (involuntary movements), dystonia (abnormal\n",
      "        prolonged muscular contractions), tremor, dysgeusia (altered taste)\n",
      "  •     Blurred vision, accommodation disorder (difficulty focusing), oculogyric crisis\n",
      "        (eyes having uncontrolled circular movements)\n",
      "  •     Angioedema (serious allergic reaction which causes swelling of the face or\n",
      "        throat), fixed drug eruption (drug allergy)\n",
      "  •     Abnormal elimination of urine (bedwetting, pain and/or difficulty passing\n",
      "        water).\n",
      "Not known frequency of side effects                 (frequency cannot be estimated from the\n",
      "available data)\n",
      "  •     Increased appetite\n",
      "  •     Memory loss and forgetfulness\n",
      "  •     Vertigo (sensation of rotation or movement)\n",
      "  •     Urinary retention (inability to completely empty the urinary bladder)\n",
      "  •    Pruritus (intense itching) and/or urticaria upon discontinuation\n",
      "  •    Hepatitis (inflammation of the liver)\n",
      "  •    Arthralgia (joint pain), myalgia (muscle pain)\n",
      "  •    Acute generalised exanthematous pustulosis (rash with blisters containing pus)\n",
      "  •    Suicidal ideation (recurring thoughts of or preoccupation with suicide),\n",
      "       nightmares.\n",
      "Reporting of side effects\n",
      "If you get any side effects, talk to your doctor, pharmacist or nurse. This includes any\n"
     ]
    }
   ],
   "source": [
    "print(\n",
    "    \"The Embedding model sees this: \\n\",\n",
    "    documents[1].get_content(metadata_mode=MetadataMode.EMBED),\n",
    ")"
   ]
  },
  {
   "cell_type": "code",
   "execution_count": 14,
   "metadata": {},
   "outputs": [
    {
     "name": "stderr",
     "output_type": "stream",
     "text": [
      "INFO:httpx:HTTP Request: GET https://f2d07b74-590f-43be-afc5-6eb83202da65.us-east4-0.gcp.cloud.qdrant.io:6333/collections/pillpal_documents/exists \"HTTP/1.1 200 OK\"\n"
     ]
    }
   ],
   "source": [
    "# Create a Qdrant vector store and storage context\n",
    "vector_store = QdrantVectorStore(client=qdrant_client,\n",
    "                                 collection_name=\"pillpal_documents\")"
   ]
  },
  {
   "cell_type": "code",
   "execution_count": 15,
   "metadata": {},
   "outputs": [],
   "source": [
    "storage_context = StorageContext.from_defaults(vector_store=vector_store)"
   ]
  },
  {
   "cell_type": "code",
   "execution_count": 16,
   "metadata": {},
   "outputs": [
    {
     "name": "stderr",
     "output_type": "stream",
     "text": [
      "INFO:httpx:HTTP Request: GET https://f2d07b74-590f-43be-afc5-6eb83202da65.us-east4-0.gcp.cloud.qdrant.io:6333/collections/pillpal_documents/exists \"HTTP/1.1 200 OK\"\n",
      "INFO:httpx:HTTP Request: GET https://f2d07b74-590f-43be-afc5-6eb83202da65.us-east4-0.gcp.cloud.qdrant.io:6333/collections/pillpal_documents \"HTTP/1.1 200 OK\"\n",
      "INFO:httpx:HTTP Request: PUT https://f2d07b74-590f-43be-afc5-6eb83202da65.us-east4-0.gcp.cloud.qdrant.io:6333/collections/pillpal_documents/points?wait=true \"HTTP/1.1 200 OK\"\n"
     ]
    }
   ],
   "source": [
    "# Create the index from the documents\n",
    "index = VectorStoreIndex.from_documents(documents, storage_context=storage_context)"
   ]
  },
  {
   "cell_type": "code",
   "execution_count": 17,
   "metadata": {},
   "outputs": [
    {
     "data": {
      "text/plain": [
       "CompletionResponse(text=\"Elon Musk is a South African-born entrepreneur, inventor, and business magnate. He is one of the most successful and influential figures in the tech industry, known for his innovative ideas and ambitious projects. Here are some key facts about Elon Musk:\\n\\n**Early Life and Education**\\n\\nElon Musk was born on June 28, 1971, in Pretoria, South Africa. He developed an interest in computing and programming at an early age and taught himself computer programming. He moved to Canada in 1992 to attend college, and later transferred to the University of Pennsylvania, where he graduated with a degree in economics and physics.\\n\\n**Career**\\n\\nMusk's career can be divided into several stages:\\n\\n1. **Zip2**: In 1995, Musk co-founded Zip2, a software company that provided online content publishing software for news organizations. The company was acquired by Compaq in 1999 for $307 million.\\n2. **X.com and PayPal**: In 1999, Musk co-founded X.com, which later became PayPal, an online payment system. PayPal was acquired by eBay in 2002 for $1.5 billion.\\n3. **SpaceX**: In 2002, Musk founded SpaceX, a private space exploration company with the goal of reducing space transportation costs and enabling the colonization of Mars.\\n4. **Tesla**: In 2004, Musk co-founded Tesla, Inc., an electric vehicle and clean energy company that has become one of the leading players in the EV market.\\n5. **Neuralink**: In 2016, Musk co-founded Neuralink, a neurotechnology company that aims to integrate the human brain with computers.\\n6. **The Boring Company**: In 2016, Musk founded The Boring Company, a tunnel construction company that aims to reduce traffic congestion in cities.\\n\\n**Achievements and Controversies**\\n\\nMusk has achieved numerous milestones in his career, including:\\n\\n* Being the first privately funded person to travel to space (2012)\\n* Developing the first reusable liquid-fueled rocket (2015)\\n* Launching the first commercial spacecraft, Dragon, to the International Space Station (2012)\\n* Becoming the CEO of Tesla, which has become one of the most valuable companies in the world\\n\\nHowever, Musk has also faced several controversies, including:\\n\\n* Twitter controversies: Musk has been known for his active presence on Twitter, where he has made several provocative statements and has been involved in several high-profile feuds.\\n* Work-life balance: Musk has been criticized for his demanding work schedule and his tendency to work long hours.\\n* Financial struggles: Musk has faced several financial setbacks, including a bankruptcy filing by Tesla in 2008.\\n\\n**Personal Life**\\n\\nMusk has been married three times and has seven children. He is known for his intense focus on his work and his passion for space exploration and sustainable energy.\\n\\n**Net Worth**\\n\\nAs of 2023, Elon Musk's net worth is estimated to be over $200 billion, making him one of the richest people in the world.\\n\\nOverall, Elon Musk is a highly influential and innovative entrepreneur who has made significant contributions to the tech industry and beyond.\", additional_kwargs={'id': '60feb25e-88d9-49fc-bfce-937e7e32294b', 'finish_reason': 'stop', 'usage': {'completion_tokens': 641, 'completion_tokens_after_first_per_sec': 1533.1065351171524, 'completion_tokens_after_first_per_sec_first_ten': 1482.086219081272, 'completion_tokens_per_sec': 1459.4553803444762, 'end_time': 1732223125.7014732, 'is_last_response': True, 'prompt_tokens': 43, 'start_time': 1732223125.2622683, 'time_to_first_token': 0.021751880645751953, 'total_latency': 0.4392049312591553, 'total_tokens': 684, 'total_tokens_per_sec': 1557.359563425307}, 'model_name': 'Meta-Llama-3.2-3B-Instruct', 'system_fingerprint': 'fastcoe', 'created': 1732223125}, raw=None, logprobs=None, delta=None)"
      ]
     },
     "execution_count": 17,
     "metadata": {},
     "output_type": "execute_result"
    }
   ],
   "source": [
    "llm.complete(\"Can you tell me abou Elon Musk\")"
   ]
  },
  {
   "cell_type": "code",
   "execution_count": 24,
   "metadata": {},
   "outputs": [
    {
     "ename": "ValidationError",
     "evalue": "1 validation error for LLMMetadata\ncontext_window\n  Input should be a valid integer [type=int_type, input_value=None, input_type=NoneType]\n    For further information visit https://errors.pydantic.dev/2.9/v/int_type",
     "output_type": "error",
     "traceback": [
      "\u001b[0;31m---------------------------------------------------------------------------\u001b[0m",
      "\u001b[0;31mValidationError\u001b[0m                           Traceback (most recent call last)",
      "Cell \u001b[0;32mIn[24], line 3\u001b[0m\n\u001b[1;32m      1\u001b[0m \u001b[38;5;66;03m# Create the query engine\u001b[39;00m\n\u001b[0;32m----> 3\u001b[0m query_engine \u001b[38;5;241m=\u001b[39m \u001b[43mindex\u001b[49m\u001b[38;5;241;43m.\u001b[39;49m\u001b[43mas_query_engine\u001b[49m\u001b[43m(\u001b[49m\u001b[43msimilarity_top_k\u001b[49m\u001b[38;5;241;43m=\u001b[39;49m\u001b[38;5;241;43m10\u001b[39;49m\u001b[43m,\u001b[49m\n\u001b[1;32m      4\u001b[0m \u001b[43m                                     \u001b[49m\u001b[43mnode_postprocessors\u001b[49m\u001b[38;5;241;43m=\u001b[39;49m\u001b[43m[\u001b[49m\u001b[43mrerank_model\u001b[49m\u001b[43m]\u001b[49m\n\u001b[1;32m      5\u001b[0m \u001b[43m                                     \u001b[49m\u001b[43m)\u001b[49m\n",
      "File \u001b[0;32m/workspaces/Google-Cloud-Gemini-Hackathon/samba-ai/lib/python3.12/site-packages/llama_index/core/indices/base.py:381\u001b[0m, in \u001b[0;36mBaseIndex.as_query_engine\u001b[0;34m(self, llm, **kwargs)\u001b[0m\n\u001b[1;32m    374\u001b[0m retriever \u001b[38;5;241m=\u001b[39m \u001b[38;5;28mself\u001b[39m\u001b[38;5;241m.\u001b[39mas_retriever(\u001b[38;5;241m*\u001b[39m\u001b[38;5;241m*\u001b[39mkwargs)\n\u001b[1;32m    375\u001b[0m llm \u001b[38;5;241m=\u001b[39m (\n\u001b[1;32m    376\u001b[0m     resolve_llm(llm, callback_manager\u001b[38;5;241m=\u001b[39m\u001b[38;5;28mself\u001b[39m\u001b[38;5;241m.\u001b[39m_callback_manager)\n\u001b[1;32m    377\u001b[0m     \u001b[38;5;28;01mif\u001b[39;00m llm\n\u001b[1;32m    378\u001b[0m     \u001b[38;5;28;01melse\u001b[39;00m Settings\u001b[38;5;241m.\u001b[39mllm\n\u001b[1;32m    379\u001b[0m )\n\u001b[0;32m--> 381\u001b[0m \u001b[38;5;28;01mreturn\u001b[39;00m \u001b[43mRetrieverQueryEngine\u001b[49m\u001b[38;5;241;43m.\u001b[39;49m\u001b[43mfrom_args\u001b[49m\u001b[43m(\u001b[49m\n\u001b[1;32m    382\u001b[0m \u001b[43m    \u001b[49m\u001b[43mretriever\u001b[49m\u001b[43m,\u001b[49m\n\u001b[1;32m    383\u001b[0m \u001b[43m    \u001b[49m\u001b[43mllm\u001b[49m\u001b[38;5;241;43m=\u001b[39;49m\u001b[43mllm\u001b[49m\u001b[43m,\u001b[49m\n\u001b[1;32m    384\u001b[0m \u001b[43m    \u001b[49m\u001b[38;5;241;43m*\u001b[39;49m\u001b[38;5;241;43m*\u001b[39;49m\u001b[43mkwargs\u001b[49m\u001b[43m,\u001b[49m\n\u001b[1;32m    385\u001b[0m \u001b[43m\u001b[49m\u001b[43m)\u001b[49m\n",
      "File \u001b[0;32m/workspaces/Google-Cloud-Gemini-Hackathon/samba-ai/lib/python3.12/site-packages/llama_index/core/query_engine/retriever_query_engine.py:102\u001b[0m, in \u001b[0;36mRetrieverQueryEngine.from_args\u001b[0;34m(cls, retriever, llm, response_synthesizer, node_postprocessors, callback_manager, response_mode, text_qa_template, refine_template, summary_template, simple_template, output_cls, use_async, streaming, **kwargs)\u001b[0m\n\u001b[1;32m     79\u001b[0m \u001b[38;5;250m\u001b[39m\u001b[38;5;124;03m\"\"\"Initialize a RetrieverQueryEngine object.\".\u001b[39;00m\n\u001b[1;32m     80\u001b[0m \n\u001b[1;32m     81\u001b[0m \u001b[38;5;124;03mArgs:\u001b[39;00m\n\u001b[0;32m   (...)\u001b[0m\n\u001b[1;32m     98\u001b[0m \u001b[38;5;124;03m    streaming (bool): Whether to use streaming.\u001b[39;00m\n\u001b[1;32m     99\u001b[0m \u001b[38;5;124;03m\"\"\"\u001b[39;00m\n\u001b[1;32m    100\u001b[0m llm \u001b[38;5;241m=\u001b[39m llm \u001b[38;5;129;01mor\u001b[39;00m Settings\u001b[38;5;241m.\u001b[39mllm\n\u001b[0;32m--> 102\u001b[0m response_synthesizer \u001b[38;5;241m=\u001b[39m response_synthesizer \u001b[38;5;129;01mor\u001b[39;00m \u001b[43mget_response_synthesizer\u001b[49m\u001b[43m(\u001b[49m\n\u001b[1;32m    103\u001b[0m \u001b[43m    \u001b[49m\u001b[43mllm\u001b[49m\u001b[38;5;241;43m=\u001b[39;49m\u001b[43mllm\u001b[49m\u001b[43m,\u001b[49m\n\u001b[1;32m    104\u001b[0m \u001b[43m    \u001b[49m\u001b[43mtext_qa_template\u001b[49m\u001b[38;5;241;43m=\u001b[39;49m\u001b[43mtext_qa_template\u001b[49m\u001b[43m,\u001b[49m\n\u001b[1;32m    105\u001b[0m \u001b[43m    \u001b[49m\u001b[43mrefine_template\u001b[49m\u001b[38;5;241;43m=\u001b[39;49m\u001b[43mrefine_template\u001b[49m\u001b[43m,\u001b[49m\n\u001b[1;32m    106\u001b[0m \u001b[43m    \u001b[49m\u001b[43msummary_template\u001b[49m\u001b[38;5;241;43m=\u001b[39;49m\u001b[43msummary_template\u001b[49m\u001b[43m,\u001b[49m\n\u001b[1;32m    107\u001b[0m \u001b[43m    \u001b[49m\u001b[43msimple_template\u001b[49m\u001b[38;5;241;43m=\u001b[39;49m\u001b[43msimple_template\u001b[49m\u001b[43m,\u001b[49m\n\u001b[1;32m    108\u001b[0m \u001b[43m    \u001b[49m\u001b[43mresponse_mode\u001b[49m\u001b[38;5;241;43m=\u001b[39;49m\u001b[43mresponse_mode\u001b[49m\u001b[43m,\u001b[49m\n\u001b[1;32m    109\u001b[0m \u001b[43m    \u001b[49m\u001b[43moutput_cls\u001b[49m\u001b[38;5;241;43m=\u001b[39;49m\u001b[43moutput_cls\u001b[49m\u001b[43m,\u001b[49m\n\u001b[1;32m    110\u001b[0m \u001b[43m    \u001b[49m\u001b[43muse_async\u001b[49m\u001b[38;5;241;43m=\u001b[39;49m\u001b[43muse_async\u001b[49m\u001b[43m,\u001b[49m\n\u001b[1;32m    111\u001b[0m \u001b[43m    \u001b[49m\u001b[43mstreaming\u001b[49m\u001b[38;5;241;43m=\u001b[39;49m\u001b[43mstreaming\u001b[49m\u001b[43m,\u001b[49m\n\u001b[1;32m    112\u001b[0m \u001b[43m\u001b[49m\u001b[43m)\u001b[49m\n\u001b[1;32m    114\u001b[0m callback_manager \u001b[38;5;241m=\u001b[39m callback_manager \u001b[38;5;129;01mor\u001b[39;00m Settings\u001b[38;5;241m.\u001b[39mcallback_manager\n\u001b[1;32m    116\u001b[0m \u001b[38;5;28;01mreturn\u001b[39;00m \u001b[38;5;28mcls\u001b[39m(\n\u001b[1;32m    117\u001b[0m     retriever\u001b[38;5;241m=\u001b[39mretriever,\n\u001b[1;32m    118\u001b[0m     response_synthesizer\u001b[38;5;241m=\u001b[39mresponse_synthesizer,\n\u001b[1;32m    119\u001b[0m     callback_manager\u001b[38;5;241m=\u001b[39mcallback_manager,\n\u001b[1;32m    120\u001b[0m     node_postprocessors\u001b[38;5;241m=\u001b[39mnode_postprocessors,\n\u001b[1;32m    121\u001b[0m )\n",
      "File \u001b[0;32m/workspaces/Google-Cloud-Gemini-Hackathon/samba-ai/lib/python3.12/site-packages/llama_index/core/response_synthesizers/factory.py:63\u001b[0m, in \u001b[0;36mget_response_synthesizer\u001b[0;34m(llm, prompt_helper, text_qa_template, refine_template, summary_template, simple_template, response_mode, callback_manager, use_async, streaming, structured_answer_filtering, output_cls, program_factory, verbose)\u001b[0m\n\u001b[1;32m     57\u001b[0m callback_manager \u001b[38;5;241m=\u001b[39m callback_manager \u001b[38;5;129;01mor\u001b[39;00m Settings\u001b[38;5;241m.\u001b[39mcallback_manager\n\u001b[1;32m     58\u001b[0m llm \u001b[38;5;241m=\u001b[39m llm \u001b[38;5;129;01mor\u001b[39;00m Settings\u001b[38;5;241m.\u001b[39mllm\n\u001b[1;32m     59\u001b[0m prompt_helper \u001b[38;5;241m=\u001b[39m (\n\u001b[1;32m     60\u001b[0m     prompt_helper\n\u001b[1;32m     61\u001b[0m     \u001b[38;5;129;01mor\u001b[39;00m Settings\u001b[38;5;241m.\u001b[39m_prompt_helper\n\u001b[1;32m     62\u001b[0m     \u001b[38;5;129;01mor\u001b[39;00m PromptHelper\u001b[38;5;241m.\u001b[39mfrom_llm_metadata(\n\u001b[0;32m---> 63\u001b[0m         \u001b[43mllm\u001b[49m\u001b[38;5;241;43m.\u001b[39;49m\u001b[43mmetadata\u001b[49m,\n\u001b[1;32m     64\u001b[0m     )\n\u001b[1;32m     65\u001b[0m )\n\u001b[1;32m     67\u001b[0m \u001b[38;5;28;01mif\u001b[39;00m response_mode \u001b[38;5;241m==\u001b[39m ResponseMode\u001b[38;5;241m.\u001b[39mREFINE:\n\u001b[1;32m     68\u001b[0m     \u001b[38;5;28;01mreturn\u001b[39;00m Refine(\n\u001b[1;32m     69\u001b[0m         llm\u001b[38;5;241m=\u001b[39mllm,\n\u001b[1;32m     70\u001b[0m         callback_manager\u001b[38;5;241m=\u001b[39mcallback_manager,\n\u001b[0;32m   (...)\u001b[0m\n\u001b[1;32m     78\u001b[0m         verbose\u001b[38;5;241m=\u001b[39mverbose,\n\u001b[1;32m     79\u001b[0m     )\n",
      "File \u001b[0;32m/workspaces/Google-Cloud-Gemini-Hackathon/samba-ai/lib/python3.12/site-packages/llama_index/llms/sambanovacloud/base.py:206\u001b[0m, in \u001b[0;36mSambaNovaCloud.metadata\u001b[0;34m(self)\u001b[0m\n\u001b[1;32m    204\u001b[0m \u001b[38;5;129m@property\u001b[39m\n\u001b[1;32m    205\u001b[0m \u001b[38;5;28;01mdef\u001b[39;00m \u001b[38;5;21mmetadata\u001b[39m(\u001b[38;5;28mself\u001b[39m) \u001b[38;5;241m-\u001b[39m\u001b[38;5;241m>\u001b[39m LLMMetadata:\n\u001b[0;32m--> 206\u001b[0m     \u001b[38;5;28;01mreturn\u001b[39;00m \u001b[43mLLMMetadata\u001b[49m\u001b[43m(\u001b[49m\n\u001b[1;32m    207\u001b[0m \u001b[43m        \u001b[49m\u001b[43mcontext_window\u001b[49m\u001b[38;5;241;43m=\u001b[39;49m\u001b[38;5;28;43;01mNone\u001b[39;49;00m\u001b[43m,\u001b[49m\n\u001b[1;32m    208\u001b[0m \u001b[43m        \u001b[49m\u001b[43mnum_output\u001b[49m\u001b[38;5;241;43m=\u001b[39;49m\u001b[38;5;28;43mself\u001b[39;49m\u001b[38;5;241;43m.\u001b[39;49m\u001b[43mmax_tokens\u001b[49m\u001b[43m,\u001b[49m\n\u001b[1;32m    209\u001b[0m \u001b[43m        \u001b[49m\u001b[43mis_chat_model\u001b[49m\u001b[38;5;241;43m=\u001b[39;49m\u001b[38;5;28;43;01mTrue\u001b[39;49;00m\u001b[43m,\u001b[49m\n\u001b[1;32m    210\u001b[0m \u001b[43m        \u001b[49m\u001b[43mmodel_name\u001b[49m\u001b[38;5;241;43m=\u001b[39;49m\u001b[38;5;28;43mself\u001b[39;49m\u001b[38;5;241;43m.\u001b[39;49m\u001b[43mmodel\u001b[49m\u001b[43m,\u001b[49m\n\u001b[1;32m    211\u001b[0m \u001b[43m    \u001b[49m\u001b[43m)\u001b[49m\n",
      "File \u001b[0;32m/workspaces/Google-Cloud-Gemini-Hackathon/samba-ai/lib/python3.12/site-packages/pydantic/main.py:212\u001b[0m, in \u001b[0;36mBaseModel.__init__\u001b[0;34m(self, **data)\u001b[0m\n\u001b[1;32m    210\u001b[0m \u001b[38;5;66;03m# `__tracebackhide__` tells pytest and some other tools to omit this function from tracebacks\u001b[39;00m\n\u001b[1;32m    211\u001b[0m __tracebackhide__ \u001b[38;5;241m=\u001b[39m \u001b[38;5;28;01mTrue\u001b[39;00m\n\u001b[0;32m--> 212\u001b[0m validated_self \u001b[38;5;241m=\u001b[39m \u001b[38;5;28;43mself\u001b[39;49m\u001b[38;5;241;43m.\u001b[39;49m\u001b[43m__pydantic_validator__\u001b[49m\u001b[38;5;241;43m.\u001b[39;49m\u001b[43mvalidate_python\u001b[49m\u001b[43m(\u001b[49m\u001b[43mdata\u001b[49m\u001b[43m,\u001b[49m\u001b[43m \u001b[49m\u001b[43mself_instance\u001b[49m\u001b[38;5;241;43m=\u001b[39;49m\u001b[38;5;28;43mself\u001b[39;49m\u001b[43m)\u001b[49m\n\u001b[1;32m    213\u001b[0m \u001b[38;5;28;01mif\u001b[39;00m \u001b[38;5;28mself\u001b[39m \u001b[38;5;129;01mis\u001b[39;00m \u001b[38;5;129;01mnot\u001b[39;00m validated_self:\n\u001b[1;32m    214\u001b[0m     warnings\u001b[38;5;241m.\u001b[39mwarn(\n\u001b[1;32m    215\u001b[0m         \u001b[38;5;124m'\u001b[39m\u001b[38;5;124mA custom validator is returning a value other than `self`.\u001b[39m\u001b[38;5;130;01m\\n\u001b[39;00m\u001b[38;5;124m'\u001b[39m\n\u001b[1;32m    216\u001b[0m         \u001b[38;5;124m\"\u001b[39m\u001b[38;5;124mReturning anything other than `self` from a top level model validator isn\u001b[39m\u001b[38;5;124m'\u001b[39m\u001b[38;5;124mt supported when validating via `__init__`.\u001b[39m\u001b[38;5;130;01m\\n\u001b[39;00m\u001b[38;5;124m\"\u001b[39m\n\u001b[1;32m    217\u001b[0m         \u001b[38;5;124m'\u001b[39m\u001b[38;5;124mSee the `model_validator` docs (https://docs.pydantic.dev/latest/concepts/validators/#model-validators) for more details.\u001b[39m\u001b[38;5;124m'\u001b[39m,\n\u001b[1;32m    218\u001b[0m         category\u001b[38;5;241m=\u001b[39m\u001b[38;5;28;01mNone\u001b[39;00m,\n\u001b[1;32m    219\u001b[0m     )\n",
      "\u001b[0;31mValidationError\u001b[0m: 1 validation error for LLMMetadata\ncontext_window\n  Input should be a valid integer [type=int_type, input_value=None, input_type=NoneType]\n    For further information visit https://errors.pydantic.dev/2.9/v/int_type"
     ]
    }
   ],
   "source": [
    "# Create the query engine\n",
    "\n",
    "query_engine = index.as_query_engine(similarity_top_k=10,\n",
    "                                     node_postprocessors=[rerank_model]\n",
    "                                     )"
   ]
  },
  {
   "cell_type": "code",
   "execution_count": null,
   "metadata": {},
   "outputs": [],
   "source": [
    "response = query_engine.query(\"What are the sideeffects of Cetirizine Hydrochloride?\")"
   ]
  },
  {
   "cell_type": "code",
   "execution_count": null,
   "metadata": {},
   "outputs": [],
   "source": [
    "print(response)"
   ]
  },
  {
   "cell_type": "code",
   "execution_count": 18,
   "metadata": {},
   "outputs": [
    {
     "data": {
      "text/plain": [
       "str"
      ]
     },
     "execution_count": 18,
     "metadata": {},
     "output_type": "execute_result"
    }
   ],
   "source": [
    "type(unsafe_categories)"
   ]
  },
  {
   "cell_type": "code",
   "execution_count": 19,
   "metadata": {},
   "outputs": [
    {
     "name": "stderr",
     "output_type": "stream",
     "text": [
      "INFO:root:Evaluating message: what are the side effects of cetirizine hydrochloride?\n",
      "INFO:httpx:HTTP Request: POST https://api.groq.com/openai/v1/chat/completions \"HTTP/1.1 200 OK\"\n",
      "INFO:root:Model response: safe\n"
     ]
    }
   ],
   "source": [
    "s = moderate_message(\"what are the side effects of cetirizine hydrochloride?\")"
   ]
  },
  {
   "cell_type": "code",
   "execution_count": 20,
   "metadata": {},
   "outputs": [
    {
     "name": "stdout",
     "output_type": "stream",
     "text": [
      "safe\n"
     ]
    }
   ],
   "source": [
    "print(s)"
   ]
  },
  {
   "cell_type": "code",
   "execution_count": 21,
   "metadata": {},
   "outputs": [],
   "source": [
    "if s != 'safe':\n",
    "    print(\"It is unsafe\")"
   ]
  },
  {
   "cell_type": "code",
   "execution_count": 22,
   "metadata": {},
   "outputs": [
    {
     "name": "stderr",
     "output_type": "stream",
     "text": [
      "INFO:root:Evaluating message: I want to harm myself\n",
      "INFO:httpx:HTTP Request: POST https://api.groq.com/openai/v1/chat/completions \"HTTP/1.1 200 OK\"\n",
      "INFO:root:Model response: unsafe\n",
      "S11\n",
      "WARNING:root:Warning: Your message does not comply with our application rules and responsibilities.\n"
     ]
    }
   ],
   "source": [
    "us = moderate_message(\"I want to harm myself\")"
   ]
  },
  {
   "cell_type": "code",
   "execution_count": 23,
   "metadata": {},
   "outputs": [
    {
     "name": "stdout",
     "output_type": "stream",
     "text": [
      "It is unsafe\n"
     ]
    }
   ],
   "source": [
    "if us != 'safe':\n",
    "    print(\"It is unsafe\")"
   ]
  }
 ],
 "metadata": {
  "kernelspec": {
   "display_name": "samba-ai",
   "language": "python",
   "name": "python3"
  },
  "language_info": {
   "codemirror_mode": {
    "name": "ipython",
    "version": 3
   },
   "file_extension": ".py",
   "mimetype": "text/x-python",
   "name": "python",
   "nbconvert_exporter": "python",
   "pygments_lexer": "ipython3",
   "version": "3.12.1"
  }
 },
 "nbformat": 4,
 "nbformat_minor": 2
}
